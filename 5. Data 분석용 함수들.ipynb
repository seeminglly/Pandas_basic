{
 "cells": [
  {
   "cell_type": "code",
   "execution_count": 3,
   "id": "027367f9",
   "metadata": {},
   "outputs": [],
   "source": [
    "import numpy as np\n",
    "import pandas as pd"
   ]
  },
  {
   "cell_type": "code",
   "execution_count": 4,
   "id": "3c018ccd",
   "metadata": {},
   "outputs": [],
   "source": [
    "data = [[1.4, np.nan],\n",
    "        [7.1, -4.5], \n",
    "        [np.nan, np.nan], \n",
    "       [0.75, -1.3]]\n",
    "df = pd.DataFrame(data, columns=['one','two'], index = ['a','b','c','d'])"
   ]
  },
  {
   "cell_type": "code",
   "execution_count": 5,
   "id": "c1ddd5a8",
   "metadata": {},
   "outputs": [
    {
     "data": {
      "text/html": [
       "<div>\n",
       "<style scoped>\n",
       "    .dataframe tbody tr th:only-of-type {\n",
       "        vertical-align: middle;\n",
       "    }\n",
       "\n",
       "    .dataframe tbody tr th {\n",
       "        vertical-align: top;\n",
       "    }\n",
       "\n",
       "    .dataframe thead th {\n",
       "        text-align: right;\n",
       "    }\n",
       "</style>\n",
       "<table border=\"1\" class=\"dataframe\">\n",
       "  <thead>\n",
       "    <tr style=\"text-align: right;\">\n",
       "      <th></th>\n",
       "      <th>one</th>\n",
       "      <th>two</th>\n",
       "    </tr>\n",
       "  </thead>\n",
       "  <tbody>\n",
       "    <tr>\n",
       "      <th>a</th>\n",
       "      <td>1.40</td>\n",
       "      <td>NaN</td>\n",
       "    </tr>\n",
       "    <tr>\n",
       "      <th>b</th>\n",
       "      <td>7.10</td>\n",
       "      <td>-4.5</td>\n",
       "    </tr>\n",
       "    <tr>\n",
       "      <th>c</th>\n",
       "      <td>NaN</td>\n",
       "      <td>NaN</td>\n",
       "    </tr>\n",
       "    <tr>\n",
       "      <th>d</th>\n",
       "      <td>0.75</td>\n",
       "      <td>-1.3</td>\n",
       "    </tr>\n",
       "  </tbody>\n",
       "</table>\n",
       "</div>"
      ],
      "text/plain": [
       "    one  two\n",
       "a  1.40  NaN\n",
       "b  7.10 -4.5\n",
       "c   NaN  NaN\n",
       "d  0.75 -1.3"
      ]
     },
     "execution_count": 5,
     "metadata": {},
     "output_type": "execute_result"
    }
   ],
   "source": [
    "df"
   ]
  },
  {
   "cell_type": "code",
   "execution_count": 6,
   "id": "c01a47a5",
   "metadata": {},
   "outputs": [
    {
     "data": {
      "text/plain": [
       "one    9.25\n",
       "two   -5.80\n",
       "dtype: float64"
      ]
     },
     "execution_count": 6,
     "metadata": {},
     "output_type": "execute_result"
    }
   ],
   "source": [
    "# 행 방향으로의 합(즉 각 열의 합)\n",
    "df.sum(axis=0)"
   ]
  },
  {
   "cell_type": "code",
   "execution_count": 7,
   "id": "5759a540",
   "metadata": {},
   "outputs": [
    {
     "data": {
      "text/plain": [
       "a    1.40\n",
       "b    2.60\n",
       "c    0.00\n",
       "d   -0.55\n",
       "dtype: float64"
      ]
     },
     "execution_count": 7,
     "metadata": {},
     "output_type": "execute_result"
    }
   ],
   "source": [
    "# 열 방향으로의 합(즉 각 행의 합)\n",
    "df.sum(axis=1)"
   ]
  },
  {
   "cell_type": "markdown",
   "id": "b928aa12",
   "metadata": {},
   "source": [
    "위에서 볼 수 있듯 NaN의 값은 제외하고 계산함\n",
    "NaN값을 배제하지 않고 계산하려면 아래와 같이 skipna에 대해 false를 지정해준다"
   ]
  },
  {
   "cell_type": "code",
   "execution_count": 8,
   "id": "b578b273",
   "metadata": {},
   "outputs": [
    {
     "data": {
      "text/plain": [
       "a     NaN\n",
       "b    2.60\n",
       "c     NaN\n",
       "d   -0.55\n",
       "dtype: float64"
      ]
     },
     "execution_count": 8,
     "metadata": {},
     "output_type": "execute_result"
    }
   ],
   "source": [
    "df.sum(axis=1, skipna=False)"
   ]
  },
  {
   "cell_type": "code",
   "execution_count": 9,
   "id": "921595c3",
   "metadata": {},
   "outputs": [
    {
     "data": {
      "text/plain": [
       "9.25"
      ]
     },
     "execution_count": 9,
     "metadata": {},
     "output_type": "execute_result"
    }
   ],
   "source": [
    "# 특정 행 또는 특정 열에서만 계산하기\n",
    "\n",
    "df['one'].sum()\n",
    "# 특정 열 계산"
   ]
  },
  {
   "cell_type": "code",
   "execution_count": 11,
   "id": "79b031c2",
   "metadata": {},
   "outputs": [
    {
     "data": {
      "text/plain": [
       "1.4"
      ]
     },
     "execution_count": 11,
     "metadata": {},
     "output_type": "execute_result"
    }
   ],
   "source": [
    "df.loc['a'].sum()\n",
    "# 특정 행 계산"
   ]
  },
  {
   "cell_type": "markdown",
   "id": "ffc176fe",
   "metadata": {},
   "source": [
    "#### pandas에서 DataFrame에 적용되는 함수들\n",
    "sum() 함수 이외에도 pandas에서 DataFrame에 적용되는 함수는 다음의 것들이 있다<br><br>\n",
    "count: 전체 성분의 (NaN이 아닌) 값의 갯수 계산<br>\n",
    "max,min: 전체 성분의 최대 최솟값을 계산<br>\n",
    "argmin, argmax: 전체 성분의 최대 최솟값이 위치한 (정수)인덱스를 반환<br>\n",
    "idxmin, idxmax: 전체 인덱스 중 최대 최솟값 반환<br>\n",
    "quantile: 전체 성분의 특정 사분위수에 해당하는 값 반환(0~1)<br>\n",
    "sum: 전체 성분의 합<br>\n",
    "mean: 전체 성분의 평균<br>\n",
    "median: 전체 성분의 중간값 반환<br>\n",
    "mad: 전체 성분의 평균값으로부터의 절대 편차(absolute deviation)의 평균을 계산<br>\n",
    "std, var: 전체 성분의 표준편차, 분산 계산<br>\n",
    "cumsum: 맨 첫 번째 성분부터 각 성분까지의 *누적합 계산(0부터 계속 더해짐)<br>\n",
    "cumprod: 맨 첫 번째 성분부터 각 성분까지의 *누적곱 계산(1부터 계속 곱해짐)"
   ]
  },
  {
   "cell_type": "code",
   "execution_count": 13,
   "id": "d669fcbc",
   "metadata": {},
   "outputs": [
    {
     "data": {
      "text/html": [
       "<div>\n",
       "<style scoped>\n",
       "    .dataframe tbody tr th:only-of-type {\n",
       "        vertical-align: middle;\n",
       "    }\n",
       "\n",
       "    .dataframe tbody tr th {\n",
       "        vertical-align: top;\n",
       "    }\n",
       "\n",
       "    .dataframe thead th {\n",
       "        text-align: right;\n",
       "    }\n",
       "</style>\n",
       "<table border=\"1\" class=\"dataframe\">\n",
       "  <thead>\n",
       "    <tr style=\"text-align: right;\">\n",
       "      <th></th>\n",
       "      <th>A</th>\n",
       "      <th>B</th>\n",
       "      <th>C</th>\n",
       "      <th>D</th>\n",
       "    </tr>\n",
       "  </thead>\n",
       "  <tbody>\n",
       "    <tr>\n",
       "      <th>2016-07-01</th>\n",
       "      <td>-2.416684</td>\n",
       "      <td>1.635784</td>\n",
       "      <td>-0.419866</td>\n",
       "      <td>0.065413</td>\n",
       "    </tr>\n",
       "    <tr>\n",
       "      <th>2016-07-02</th>\n",
       "      <td>-1.092334</td>\n",
       "      <td>-0.370611</td>\n",
       "      <td>-0.250897</td>\n",
       "      <td>2.285849</td>\n",
       "    </tr>\n",
       "    <tr>\n",
       "      <th>2016-07-03</th>\n",
       "      <td>-0.511805</td>\n",
       "      <td>-1.666009</td>\n",
       "      <td>0.694237</td>\n",
       "      <td>-1.148704</td>\n",
       "    </tr>\n",
       "    <tr>\n",
       "      <th>2016-07-04</th>\n",
       "      <td>-0.781373</td>\n",
       "      <td>-0.490335</td>\n",
       "      <td>0.227168</td>\n",
       "      <td>0.526725</td>\n",
       "    </tr>\n",
       "    <tr>\n",
       "      <th>2016-07-05</th>\n",
       "      <td>0.660624</td>\n",
       "      <td>0.447568</td>\n",
       "      <td>-0.209741</td>\n",
       "      <td>0.852217</td>\n",
       "    </tr>\n",
       "    <tr>\n",
       "      <th>2016-07-06</th>\n",
       "      <td>-0.505383</td>\n",
       "      <td>0.390815</td>\n",
       "      <td>-1.306933</td>\n",
       "      <td>1.262629</td>\n",
       "    </tr>\n",
       "  </tbody>\n",
       "</table>\n",
       "</div>"
      ],
      "text/plain": [
       "                   A         B         C         D\n",
       "2016-07-01 -2.416684  1.635784 -0.419866  0.065413\n",
       "2016-07-02 -1.092334 -0.370611 -0.250897  2.285849\n",
       "2016-07-03 -0.511805 -1.666009  0.694237 -1.148704\n",
       "2016-07-04 -0.781373 -0.490335  0.227168  0.526725\n",
       "2016-07-05  0.660624  0.447568 -0.209741  0.852217\n",
       "2016-07-06 -0.505383  0.390815 -1.306933  1.262629"
      ]
     },
     "execution_count": 13,
     "metadata": {},
     "output_type": "execute_result"
    }
   ],
   "source": [
    "df2 = pd.DataFrame(np.random.randn(6,4), # 6x4\n",
    "                  columns=['A','B','C','D'],\n",
    "                  index=pd.date_range('20160701', periods=6))\n",
    "                  # 20160701부터 6일간 \n",
    "df2"
   ]
  },
  {
   "cell_type": "code",
   "execution_count": 14,
   "id": "3e67c1aa",
   "metadata": {},
   "outputs": [
    {
     "data": {
      "text/plain": [
       "-0.40570041425111103"
      ]
     },
     "execution_count": 14,
     "metadata": {},
     "output_type": "execute_result"
    }
   ],
   "source": [
    "# A열과 B열의 상관계수 구하기\n",
    "df2['A'].corr(df2['B'])"
   ]
  },
  {
   "cell_type": "code",
   "execution_count": 15,
   "id": "1b8e15c5",
   "metadata": {},
   "outputs": [
    {
     "data": {
      "text/plain": [
       "-0.49551990587524064"
      ]
     },
     "execution_count": 15,
     "metadata": {},
     "output_type": "execute_result"
    }
   ],
   "source": [
    "# B열과 C열의 공분산 구하기\n",
    "df2['B'].cov(df2['C'])"
   ]
  },
  {
   "cell_type": "markdown",
   "id": "c08b47f5",
   "metadata": {},
   "source": [
    "#### 정렬함수 및 기타함수"
   ]
  },
  {
   "cell_type": "code",
   "execution_count": 17,
   "id": "6fec5a2f",
   "metadata": {},
   "outputs": [
    {
     "data": {
      "text/html": [
       "<div>\n",
       "<style scoped>\n",
       "    .dataframe tbody tr th:only-of-type {\n",
       "        vertical-align: middle;\n",
       "    }\n",
       "\n",
       "    .dataframe tbody tr th {\n",
       "        vertical-align: top;\n",
       "    }\n",
       "\n",
       "    .dataframe thead th {\n",
       "        text-align: right;\n",
       "    }\n",
       "</style>\n",
       "<table border=\"1\" class=\"dataframe\">\n",
       "  <thead>\n",
       "    <tr style=\"text-align: right;\">\n",
       "      <th></th>\n",
       "      <th>D</th>\n",
       "      <th>B</th>\n",
       "      <th>C</th>\n",
       "      <th>A</th>\n",
       "    </tr>\n",
       "  </thead>\n",
       "  <tbody>\n",
       "    <tr>\n",
       "      <th>2016-07-06</th>\n",
       "      <td>1.262629</td>\n",
       "      <td>0.390815</td>\n",
       "      <td>-1.306933</td>\n",
       "      <td>-0.505383</td>\n",
       "    </tr>\n",
       "    <tr>\n",
       "      <th>2016-07-01</th>\n",
       "      <td>0.065413</td>\n",
       "      <td>1.635784</td>\n",
       "      <td>-0.419866</td>\n",
       "      <td>-2.416684</td>\n",
       "    </tr>\n",
       "    <tr>\n",
       "      <th>2016-07-05</th>\n",
       "      <td>0.852217</td>\n",
       "      <td>0.447568</td>\n",
       "      <td>-0.209741</td>\n",
       "      <td>0.660624</td>\n",
       "    </tr>\n",
       "    <tr>\n",
       "      <th>2016-07-02</th>\n",
       "      <td>2.285849</td>\n",
       "      <td>-0.370611</td>\n",
       "      <td>-0.250897</td>\n",
       "      <td>-1.092334</td>\n",
       "    </tr>\n",
       "    <tr>\n",
       "      <th>2016-07-03</th>\n",
       "      <td>-1.148704</td>\n",
       "      <td>-1.666009</td>\n",
       "      <td>0.694237</td>\n",
       "      <td>-0.511805</td>\n",
       "    </tr>\n",
       "    <tr>\n",
       "      <th>2016-07-04</th>\n",
       "      <td>0.526725</td>\n",
       "      <td>-0.490335</td>\n",
       "      <td>0.227168</td>\n",
       "      <td>-0.781373</td>\n",
       "    </tr>\n",
       "  </tbody>\n",
       "</table>\n",
       "</div>"
      ],
      "text/plain": [
       "                   D         B         C         A\n",
       "2016-07-06  1.262629  0.390815 -1.306933 -0.505383\n",
       "2016-07-01  0.065413  1.635784 -0.419866 -2.416684\n",
       "2016-07-05  0.852217  0.447568 -0.209741  0.660624\n",
       "2016-07-02  2.285849 -0.370611 -0.250897 -1.092334\n",
       "2016-07-03 -1.148704 -1.666009  0.694237 -0.511805\n",
       "2016-07-04  0.526725 -0.490335  0.227168 -0.781373"
      ]
     },
     "execution_count": 17,
     "metadata": {},
     "output_type": "execute_result"
    }
   ],
   "source": [
    "dates = df2.index\n",
    "random_dates = np.random.permutation(dates)\n",
    "# np.random.permutation()은 무작위로 섞인 배열 만듦\n",
    "\n",
    "df2 = df2.reindex(index=random_dates, columns=\n",
    "                 ['D','B','C','A'])\n",
    "df2"
   ]
  },
  {
   "cell_type": "code",
   "execution_count": 21,
   "id": "c80bc094",
   "metadata": {},
   "outputs": [
    {
     "data": {
      "text/html": [
       "<div>\n",
       "<style scoped>\n",
       "    .dataframe tbody tr th:only-of-type {\n",
       "        vertical-align: middle;\n",
       "    }\n",
       "\n",
       "    .dataframe tbody tr th {\n",
       "        vertical-align: top;\n",
       "    }\n",
       "\n",
       "    .dataframe thead th {\n",
       "        text-align: right;\n",
       "    }\n",
       "</style>\n",
       "<table border=\"1\" class=\"dataframe\">\n",
       "  <thead>\n",
       "    <tr style=\"text-align: right;\">\n",
       "      <th></th>\n",
       "      <th>D</th>\n",
       "      <th>B</th>\n",
       "      <th>C</th>\n",
       "      <th>A</th>\n",
       "    </tr>\n",
       "  </thead>\n",
       "  <tbody>\n",
       "    <tr>\n",
       "      <th>2016-07-01</th>\n",
       "      <td>0.065413</td>\n",
       "      <td>1.635784</td>\n",
       "      <td>-0.419866</td>\n",
       "      <td>-2.416684</td>\n",
       "    </tr>\n",
       "    <tr>\n",
       "      <th>2016-07-02</th>\n",
       "      <td>2.285849</td>\n",
       "      <td>-0.370611</td>\n",
       "      <td>-0.250897</td>\n",
       "      <td>-1.092334</td>\n",
       "    </tr>\n",
       "    <tr>\n",
       "      <th>2016-07-03</th>\n",
       "      <td>-1.148704</td>\n",
       "      <td>-1.666009</td>\n",
       "      <td>0.694237</td>\n",
       "      <td>-0.511805</td>\n",
       "    </tr>\n",
       "    <tr>\n",
       "      <th>2016-07-04</th>\n",
       "      <td>0.526725</td>\n",
       "      <td>-0.490335</td>\n",
       "      <td>0.227168</td>\n",
       "      <td>-0.781373</td>\n",
       "    </tr>\n",
       "    <tr>\n",
       "      <th>2016-07-05</th>\n",
       "      <td>0.852217</td>\n",
       "      <td>0.447568</td>\n",
       "      <td>-0.209741</td>\n",
       "      <td>0.660624</td>\n",
       "    </tr>\n",
       "    <tr>\n",
       "      <th>2016-07-06</th>\n",
       "      <td>1.262629</td>\n",
       "      <td>0.390815</td>\n",
       "      <td>-1.306933</td>\n",
       "      <td>-0.505383</td>\n",
       "    </tr>\n",
       "  </tbody>\n",
       "</table>\n",
       "</div>"
      ],
      "text/plain": [
       "                   D         B         C         A\n",
       "2016-07-01  0.065413  1.635784 -0.419866 -2.416684\n",
       "2016-07-02  2.285849 -0.370611 -0.250897 -1.092334\n",
       "2016-07-03 -1.148704 -1.666009  0.694237 -0.511805\n",
       "2016-07-04  0.526725 -0.490335  0.227168 -0.781373\n",
       "2016-07-05  0.852217  0.447568 -0.209741  0.660624\n",
       "2016-07-06  1.262629  0.390815 -1.306933 -0.505383"
      ]
     },
     "execution_count": 21,
     "metadata": {},
     "output_type": "execute_result"
    }
   ],
   "source": [
    "# index와 columns의 순서가 섞임\n",
    "# 이때 *index가 오름차순이 되도록 정렬해보자\n",
    "\n",
    "df2.sort_index(axis=0)"
   ]
  },
  {
   "cell_type": "code",
   "execution_count": 22,
   "id": "542bb5bc",
   "metadata": {},
   "outputs": [
    {
     "data": {
      "text/html": [
       "<div>\n",
       "<style scoped>\n",
       "    .dataframe tbody tr th:only-of-type {\n",
       "        vertical-align: middle;\n",
       "    }\n",
       "\n",
       "    .dataframe tbody tr th {\n",
       "        vertical-align: top;\n",
       "    }\n",
       "\n",
       "    .dataframe thead th {\n",
       "        text-align: right;\n",
       "    }\n",
       "</style>\n",
       "<table border=\"1\" class=\"dataframe\">\n",
       "  <thead>\n",
       "    <tr style=\"text-align: right;\">\n",
       "      <th></th>\n",
       "      <th>A</th>\n",
       "      <th>B</th>\n",
       "      <th>C</th>\n",
       "      <th>D</th>\n",
       "    </tr>\n",
       "  </thead>\n",
       "  <tbody>\n",
       "    <tr>\n",
       "      <th>2016-07-06</th>\n",
       "      <td>-0.505383</td>\n",
       "      <td>0.390815</td>\n",
       "      <td>-1.306933</td>\n",
       "      <td>1.262629</td>\n",
       "    </tr>\n",
       "    <tr>\n",
       "      <th>2016-07-01</th>\n",
       "      <td>-2.416684</td>\n",
       "      <td>1.635784</td>\n",
       "      <td>-0.419866</td>\n",
       "      <td>0.065413</td>\n",
       "    </tr>\n",
       "    <tr>\n",
       "      <th>2016-07-05</th>\n",
       "      <td>0.660624</td>\n",
       "      <td>0.447568</td>\n",
       "      <td>-0.209741</td>\n",
       "      <td>0.852217</td>\n",
       "    </tr>\n",
       "    <tr>\n",
       "      <th>2016-07-02</th>\n",
       "      <td>-1.092334</td>\n",
       "      <td>-0.370611</td>\n",
       "      <td>-0.250897</td>\n",
       "      <td>2.285849</td>\n",
       "    </tr>\n",
       "    <tr>\n",
       "      <th>2016-07-03</th>\n",
       "      <td>-0.511805</td>\n",
       "      <td>-1.666009</td>\n",
       "      <td>0.694237</td>\n",
       "      <td>-1.148704</td>\n",
       "    </tr>\n",
       "    <tr>\n",
       "      <th>2016-07-04</th>\n",
       "      <td>-0.781373</td>\n",
       "      <td>-0.490335</td>\n",
       "      <td>0.227168</td>\n",
       "      <td>0.526725</td>\n",
       "    </tr>\n",
       "  </tbody>\n",
       "</table>\n",
       "</div>"
      ],
      "text/plain": [
       "                   A         B         C         D\n",
       "2016-07-06 -0.505383  0.390815 -1.306933  1.262629\n",
       "2016-07-01 -2.416684  1.635784 -0.419866  0.065413\n",
       "2016-07-05  0.660624  0.447568 -0.209741  0.852217\n",
       "2016-07-02 -1.092334 -0.370611 -0.250897  2.285849\n",
       "2016-07-03 -0.511805 -1.666009  0.694237 -1.148704\n",
       "2016-07-04 -0.781373 -0.490335  0.227168  0.526725"
      ]
     },
     "execution_count": 22,
     "metadata": {},
     "output_type": "execute_result"
    }
   ],
   "source": [
    "# columns를 기준으로 정렬하려면\n",
    "\n",
    "df2.sort_index(axis=1)"
   ]
  },
  {
   "cell_type": "code",
   "execution_count": 23,
   "id": "7b3ca10f",
   "metadata": {},
   "outputs": [
    {
     "data": {
      "text/html": [
       "<div>\n",
       "<style scoped>\n",
       "    .dataframe tbody tr th:only-of-type {\n",
       "        vertical-align: middle;\n",
       "    }\n",
       "\n",
       "    .dataframe tbody tr th {\n",
       "        vertical-align: top;\n",
       "    }\n",
       "\n",
       "    .dataframe thead th {\n",
       "        text-align: right;\n",
       "    }\n",
       "</style>\n",
       "<table border=\"1\" class=\"dataframe\">\n",
       "  <thead>\n",
       "    <tr style=\"text-align: right;\">\n",
       "      <th></th>\n",
       "      <th>D</th>\n",
       "      <th>B</th>\n",
       "      <th>C</th>\n",
       "      <th>A</th>\n",
       "    </tr>\n",
       "  </thead>\n",
       "  <tbody>\n",
       "    <tr>\n",
       "      <th>2016-07-06</th>\n",
       "      <td>1.262629</td>\n",
       "      <td>0.390815</td>\n",
       "      <td>-1.306933</td>\n",
       "      <td>-0.505383</td>\n",
       "    </tr>\n",
       "    <tr>\n",
       "      <th>2016-07-05</th>\n",
       "      <td>0.852217</td>\n",
       "      <td>0.447568</td>\n",
       "      <td>-0.209741</td>\n",
       "      <td>0.660624</td>\n",
       "    </tr>\n",
       "    <tr>\n",
       "      <th>2016-07-04</th>\n",
       "      <td>0.526725</td>\n",
       "      <td>-0.490335</td>\n",
       "      <td>0.227168</td>\n",
       "      <td>-0.781373</td>\n",
       "    </tr>\n",
       "    <tr>\n",
       "      <th>2016-07-03</th>\n",
       "      <td>-1.148704</td>\n",
       "      <td>-1.666009</td>\n",
       "      <td>0.694237</td>\n",
       "      <td>-0.511805</td>\n",
       "    </tr>\n",
       "    <tr>\n",
       "      <th>2016-07-02</th>\n",
       "      <td>2.285849</td>\n",
       "      <td>-0.370611</td>\n",
       "      <td>-0.250897</td>\n",
       "      <td>-1.092334</td>\n",
       "    </tr>\n",
       "    <tr>\n",
       "      <th>2016-07-01</th>\n",
       "      <td>0.065413</td>\n",
       "      <td>1.635784</td>\n",
       "      <td>-0.419866</td>\n",
       "      <td>-2.416684</td>\n",
       "    </tr>\n",
       "  </tbody>\n",
       "</table>\n",
       "</div>"
      ],
      "text/plain": [
       "                   D         B         C         A\n",
       "2016-07-06  1.262629  0.390815 -1.306933 -0.505383\n",
       "2016-07-05  0.852217  0.447568 -0.209741  0.660624\n",
       "2016-07-04  0.526725 -0.490335  0.227168 -0.781373\n",
       "2016-07-03 -1.148704 -1.666009  0.694237 -0.511805\n",
       "2016-07-02  2.285849 -0.370611 -0.250897 -1.092334\n",
       "2016-07-01  0.065413  1.635784 -0.419866 -2.416684"
      ]
     },
     "execution_count": 23,
     "metadata": {},
     "output_type": "execute_result"
    }
   ],
   "source": [
    "# index를 기준으로 *내림차순 정렬\n",
    "\n",
    "df2.sort_index(axis=0, ascending=False)\n",
    "# ascending의 의미: 오름차순\n",
    "# 그것을 false로 설정함으로써 내림차순이 됨"
   ]
  },
  {
   "cell_type": "code",
   "execution_count": 24,
   "id": "bb8318e9",
   "metadata": {},
   "outputs": [
    {
     "data": {
      "text/html": [
       "<div>\n",
       "<style scoped>\n",
       "    .dataframe tbody tr th:only-of-type {\n",
       "        vertical-align: middle;\n",
       "    }\n",
       "\n",
       "    .dataframe tbody tr th {\n",
       "        vertical-align: top;\n",
       "    }\n",
       "\n",
       "    .dataframe thead th {\n",
       "        text-align: right;\n",
       "    }\n",
       "</style>\n",
       "<table border=\"1\" class=\"dataframe\">\n",
       "  <thead>\n",
       "    <tr style=\"text-align: right;\">\n",
       "      <th></th>\n",
       "      <th>D</th>\n",
       "      <th>B</th>\n",
       "      <th>C</th>\n",
       "      <th>A</th>\n",
       "    </tr>\n",
       "  </thead>\n",
       "  <tbody>\n",
       "    <tr>\n",
       "      <th>2016-07-03</th>\n",
       "      <td>-1.148704</td>\n",
       "      <td>-1.666009</td>\n",
       "      <td>0.694237</td>\n",
       "      <td>-0.511805</td>\n",
       "    </tr>\n",
       "    <tr>\n",
       "      <th>2016-07-01</th>\n",
       "      <td>0.065413</td>\n",
       "      <td>1.635784</td>\n",
       "      <td>-0.419866</td>\n",
       "      <td>-2.416684</td>\n",
       "    </tr>\n",
       "    <tr>\n",
       "      <th>2016-07-04</th>\n",
       "      <td>0.526725</td>\n",
       "      <td>-0.490335</td>\n",
       "      <td>0.227168</td>\n",
       "      <td>-0.781373</td>\n",
       "    </tr>\n",
       "    <tr>\n",
       "      <th>2016-07-05</th>\n",
       "      <td>0.852217</td>\n",
       "      <td>0.447568</td>\n",
       "      <td>-0.209741</td>\n",
       "      <td>0.660624</td>\n",
       "    </tr>\n",
       "    <tr>\n",
       "      <th>2016-07-06</th>\n",
       "      <td>1.262629</td>\n",
       "      <td>0.390815</td>\n",
       "      <td>-1.306933</td>\n",
       "      <td>-0.505383</td>\n",
       "    </tr>\n",
       "    <tr>\n",
       "      <th>2016-07-02</th>\n",
       "      <td>2.285849</td>\n",
       "      <td>-0.370611</td>\n",
       "      <td>-0.250897</td>\n",
       "      <td>-1.092334</td>\n",
       "    </tr>\n",
       "  </tbody>\n",
       "</table>\n",
       "</div>"
      ],
      "text/plain": [
       "                   D         B         C         A\n",
       "2016-07-03 -1.148704 -1.666009  0.694237 -0.511805\n",
       "2016-07-01  0.065413  1.635784 -0.419866 -2.416684\n",
       "2016-07-04  0.526725 -0.490335  0.227168 -0.781373\n",
       "2016-07-05  0.852217  0.447568 -0.209741  0.660624\n",
       "2016-07-06  1.262629  0.390815 -1.306933 -0.505383\n",
       "2016-07-02  2.285849 -0.370611 -0.250897 -1.092334"
      ]
     },
     "execution_count": 24,
     "metadata": {},
     "output_type": "execute_result"
    }
   ],
   "source": [
    "# 값을 기준으로 정렬하기\n",
    "# D열의 값이 오름차순(작->큰)이 되도록 정렬\n",
    "\n",
    "df2.sort_values(by=\"D\")"
   ]
  },
  {
   "cell_type": "code",
   "execution_count": 25,
   "id": "85c1a24e",
   "metadata": {},
   "outputs": [
    {
     "data": {
      "text/html": [
       "<div>\n",
       "<style scoped>\n",
       "    .dataframe tbody tr th:only-of-type {\n",
       "        vertical-align: middle;\n",
       "    }\n",
       "\n",
       "    .dataframe tbody tr th {\n",
       "        vertical-align: top;\n",
       "    }\n",
       "\n",
       "    .dataframe thead th {\n",
       "        text-align: right;\n",
       "    }\n",
       "</style>\n",
       "<table border=\"1\" class=\"dataframe\">\n",
       "  <thead>\n",
       "    <tr style=\"text-align: right;\">\n",
       "      <th></th>\n",
       "      <th>D</th>\n",
       "      <th>B</th>\n",
       "      <th>C</th>\n",
       "      <th>A</th>\n",
       "    </tr>\n",
       "  </thead>\n",
       "  <tbody>\n",
       "    <tr>\n",
       "      <th>2016-07-01</th>\n",
       "      <td>0.065413</td>\n",
       "      <td>1.635784</td>\n",
       "      <td>-0.419866</td>\n",
       "      <td>-2.416684</td>\n",
       "    </tr>\n",
       "    <tr>\n",
       "      <th>2016-07-05</th>\n",
       "      <td>0.852217</td>\n",
       "      <td>0.447568</td>\n",
       "      <td>-0.209741</td>\n",
       "      <td>0.660624</td>\n",
       "    </tr>\n",
       "    <tr>\n",
       "      <th>2016-07-06</th>\n",
       "      <td>1.262629</td>\n",
       "      <td>0.390815</td>\n",
       "      <td>-1.306933</td>\n",
       "      <td>-0.505383</td>\n",
       "    </tr>\n",
       "    <tr>\n",
       "      <th>2016-07-02</th>\n",
       "      <td>2.285849</td>\n",
       "      <td>-0.370611</td>\n",
       "      <td>-0.250897</td>\n",
       "      <td>-1.092334</td>\n",
       "    </tr>\n",
       "    <tr>\n",
       "      <th>2016-07-04</th>\n",
       "      <td>0.526725</td>\n",
       "      <td>-0.490335</td>\n",
       "      <td>0.227168</td>\n",
       "      <td>-0.781373</td>\n",
       "    </tr>\n",
       "    <tr>\n",
       "      <th>2016-07-03</th>\n",
       "      <td>-1.148704</td>\n",
       "      <td>-1.666009</td>\n",
       "      <td>0.694237</td>\n",
       "      <td>-0.511805</td>\n",
       "    </tr>\n",
       "  </tbody>\n",
       "</table>\n",
       "</div>"
      ],
      "text/plain": [
       "                   D         B         C         A\n",
       "2016-07-01  0.065413  1.635784 -0.419866 -2.416684\n",
       "2016-07-05  0.852217  0.447568 -0.209741  0.660624\n",
       "2016-07-06  1.262629  0.390815 -1.306933 -0.505383\n",
       "2016-07-02  2.285849 -0.370611 -0.250897 -1.092334\n",
       "2016-07-04  0.526725 -0.490335  0.227168 -0.781373\n",
       "2016-07-03 -1.148704 -1.666009  0.694237 -0.511805"
      ]
     },
     "execution_count": 25,
     "metadata": {},
     "output_type": "execute_result"
    }
   ],
   "source": [
    "# B열의 값이 내림차순(큰->작)이 되도록 정렬\n",
    "\n",
    "df2.sort_values(by='B', ascending=False)"
   ]
  },
  {
   "cell_type": "code",
   "execution_count": 26,
   "id": "e1200703",
   "metadata": {},
   "outputs": [
    {
     "data": {
      "text/html": [
       "<div>\n",
       "<style scoped>\n",
       "    .dataframe tbody tr th:only-of-type {\n",
       "        vertical-align: middle;\n",
       "    }\n",
       "\n",
       "    .dataframe tbody tr th {\n",
       "        vertical-align: top;\n",
       "    }\n",
       "\n",
       "    .dataframe thead th {\n",
       "        text-align: right;\n",
       "    }\n",
       "</style>\n",
       "<table border=\"1\" class=\"dataframe\">\n",
       "  <thead>\n",
       "    <tr style=\"text-align: right;\">\n",
       "      <th></th>\n",
       "      <th>D</th>\n",
       "      <th>B</th>\n",
       "      <th>C</th>\n",
       "      <th>A</th>\n",
       "      <th>E</th>\n",
       "      <th>F</th>\n",
       "    </tr>\n",
       "  </thead>\n",
       "  <tbody>\n",
       "    <tr>\n",
       "      <th>2016-07-06</th>\n",
       "      <td>1.262629</td>\n",
       "      <td>0.390815</td>\n",
       "      <td>-1.306933</td>\n",
       "      <td>-0.505383</td>\n",
       "      <td>4</td>\n",
       "      <td>alpha</td>\n",
       "    </tr>\n",
       "    <tr>\n",
       "      <th>2016-07-01</th>\n",
       "      <td>0.065413</td>\n",
       "      <td>1.635784</td>\n",
       "      <td>-0.419866</td>\n",
       "      <td>-2.416684</td>\n",
       "      <td>4</td>\n",
       "      <td>beta</td>\n",
       "    </tr>\n",
       "    <tr>\n",
       "      <th>2016-07-05</th>\n",
       "      <td>0.852217</td>\n",
       "      <td>0.447568</td>\n",
       "      <td>-0.209741</td>\n",
       "      <td>0.660624</td>\n",
       "      <td>3</td>\n",
       "      <td>gamma</td>\n",
       "    </tr>\n",
       "    <tr>\n",
       "      <th>2016-07-02</th>\n",
       "      <td>2.285849</td>\n",
       "      <td>-0.370611</td>\n",
       "      <td>-0.250897</td>\n",
       "      <td>-1.092334</td>\n",
       "      <td>0</td>\n",
       "      <td>gamma</td>\n",
       "    </tr>\n",
       "    <tr>\n",
       "      <th>2016-07-03</th>\n",
       "      <td>-1.148704</td>\n",
       "      <td>-1.666009</td>\n",
       "      <td>0.694237</td>\n",
       "      <td>-0.511805</td>\n",
       "      <td>2</td>\n",
       "      <td>alpha</td>\n",
       "    </tr>\n",
       "    <tr>\n",
       "      <th>2016-07-04</th>\n",
       "      <td>0.526725</td>\n",
       "      <td>-0.490335</td>\n",
       "      <td>0.227168</td>\n",
       "      <td>-0.781373</td>\n",
       "      <td>5</td>\n",
       "      <td>gamma</td>\n",
       "    </tr>\n",
       "  </tbody>\n",
       "</table>\n",
       "</div>"
      ],
      "text/plain": [
       "                   D         B         C         A  E      F\n",
       "2016-07-06  1.262629  0.390815 -1.306933 -0.505383  4  alpha\n",
       "2016-07-01  0.065413  1.635784 -0.419866 -2.416684  4   beta\n",
       "2016-07-05  0.852217  0.447568 -0.209741  0.660624  3  gamma\n",
       "2016-07-02  2.285849 -0.370611 -0.250897 -1.092334  0  gamma\n",
       "2016-07-03 -1.148704 -1.666009  0.694237 -0.511805  2  alpha\n",
       "2016-07-04  0.526725 -0.490335  0.227168 -0.781373  5  gamma"
      ]
     },
     "execution_count": 26,
     "metadata": {},
     "output_type": "execute_result"
    }
   ],
   "source": [
    "df2['E'] = np.random.randint(0,6, size = 6) # 0~5까지 정수 랜덤\n",
    "df2['F'] = ['alpha','beta','gamma','gamma','alpha','gamma']\n",
    "df2"
   ]
  },
  {
   "cell_type": "code",
   "execution_count": 28,
   "id": "937cec86",
   "metadata": {},
   "outputs": [
    {
     "data": {
      "text/html": [
       "<div>\n",
       "<style scoped>\n",
       "    .dataframe tbody tr th:only-of-type {\n",
       "        vertical-align: middle;\n",
       "    }\n",
       "\n",
       "    .dataframe tbody tr th {\n",
       "        vertical-align: top;\n",
       "    }\n",
       "\n",
       "    .dataframe thead th {\n",
       "        text-align: right;\n",
       "    }\n",
       "</style>\n",
       "<table border=\"1\" class=\"dataframe\">\n",
       "  <thead>\n",
       "    <tr style=\"text-align: right;\">\n",
       "      <th></th>\n",
       "      <th>D</th>\n",
       "      <th>B</th>\n",
       "      <th>C</th>\n",
       "      <th>A</th>\n",
       "      <th>E</th>\n",
       "      <th>F</th>\n",
       "    </tr>\n",
       "  </thead>\n",
       "  <tbody>\n",
       "    <tr>\n",
       "      <th>2016-07-02</th>\n",
       "      <td>2.285849</td>\n",
       "      <td>-0.370611</td>\n",
       "      <td>-0.250897</td>\n",
       "      <td>-1.092334</td>\n",
       "      <td>0</td>\n",
       "      <td>gamma</td>\n",
       "    </tr>\n",
       "    <tr>\n",
       "      <th>2016-07-03</th>\n",
       "      <td>-1.148704</td>\n",
       "      <td>-1.666009</td>\n",
       "      <td>0.694237</td>\n",
       "      <td>-0.511805</td>\n",
       "      <td>2</td>\n",
       "      <td>alpha</td>\n",
       "    </tr>\n",
       "    <tr>\n",
       "      <th>2016-07-05</th>\n",
       "      <td>0.852217</td>\n",
       "      <td>0.447568</td>\n",
       "      <td>-0.209741</td>\n",
       "      <td>0.660624</td>\n",
       "      <td>3</td>\n",
       "      <td>gamma</td>\n",
       "    </tr>\n",
       "    <tr>\n",
       "      <th>2016-07-06</th>\n",
       "      <td>1.262629</td>\n",
       "      <td>0.390815</td>\n",
       "      <td>-1.306933</td>\n",
       "      <td>-0.505383</td>\n",
       "      <td>4</td>\n",
       "      <td>alpha</td>\n",
       "    </tr>\n",
       "    <tr>\n",
       "      <th>2016-07-01</th>\n",
       "      <td>0.065413</td>\n",
       "      <td>1.635784</td>\n",
       "      <td>-0.419866</td>\n",
       "      <td>-2.416684</td>\n",
       "      <td>4</td>\n",
       "      <td>beta</td>\n",
       "    </tr>\n",
       "    <tr>\n",
       "      <th>2016-07-04</th>\n",
       "      <td>0.526725</td>\n",
       "      <td>-0.490335</td>\n",
       "      <td>0.227168</td>\n",
       "      <td>-0.781373</td>\n",
       "      <td>5</td>\n",
       "      <td>gamma</td>\n",
       "    </tr>\n",
       "  </tbody>\n",
       "</table>\n",
       "</div>"
      ],
      "text/plain": [
       "                   D         B         C         A  E      F\n",
       "2016-07-02  2.285849 -0.370611 -0.250897 -1.092334  0  gamma\n",
       "2016-07-03 -1.148704 -1.666009  0.694237 -0.511805  2  alpha\n",
       "2016-07-05  0.852217  0.447568 -0.209741  0.660624  3  gamma\n",
       "2016-07-06  1.262629  0.390815 -1.306933 -0.505383  4  alpha\n",
       "2016-07-01  0.065413  1.635784 -0.419866 -2.416684  4   beta\n",
       "2016-07-04  0.526725 -0.490335  0.227168 -0.781373  5  gamma"
      ]
     },
     "execution_count": 28,
     "metadata": {},
     "output_type": "execute_result"
    }
   ],
   "source": [
    "# E열과 F열을 동시에 고려하여 오름차순으로 하기\n",
    "df2.sort_values(by=['E','F'])"
   ]
  },
  {
   "cell_type": "code",
   "execution_count": 29,
   "id": "b7983e77",
   "metadata": {},
   "outputs": [
    {
     "data": {
      "text/plain": [
       "array(['alpha', 'beta', 'gamma'], dtype=object)"
      ]
     },
     "execution_count": 29,
     "metadata": {},
     "output_type": "execute_result"
    }
   ],
   "source": [
    "# 지정한 행 또는 열에서 중복값을 제외한 유니크한 값만 얻기(unique)\n",
    "df2['F'].unique()"
   ]
  },
  {
   "cell_type": "code",
   "execution_count": 32,
   "id": "8f0a1dd8",
   "metadata": {},
   "outputs": [
    {
     "data": {
      "text/plain": [
       "gamma    3\n",
       "alpha    2\n",
       "beta     1\n",
       "Name: F, dtype: int64"
      ]
     },
     "execution_count": 32,
     "metadata": {},
     "output_type": "execute_result"
    }
   ],
   "source": [
    "# 지정한 행 또는 열에서 값에 따른 개수 얻기(value_counts)\n",
    "df2['F'].value_counts()"
   ]
  },
  {
   "cell_type": "code",
   "execution_count": 33,
   "id": "d8865be4",
   "metadata": {},
   "outputs": [
    {
     "data": {
      "text/plain": [
       "2016-07-06     True\n",
       "2016-07-01     True\n",
       "2016-07-05    False\n",
       "2016-07-02    False\n",
       "2016-07-03     True\n",
       "2016-07-04    False\n",
       "Name: F, dtype: bool"
      ]
     },
     "execution_count": 33,
     "metadata": {},
     "output_type": "execute_result"
    }
   ],
   "source": [
    "# 지정한 행 또는 열에서 입력한 값이 있는지 확인하기(isin)\n",
    "df2['F'].isin(['alpha','beta'])"
   ]
  },
  {
   "cell_type": "code",
   "execution_count": 34,
   "id": "961088c4",
   "metadata": {},
   "outputs": [
    {
     "data": {
      "text/html": [
       "<div>\n",
       "<style scoped>\n",
       "    .dataframe tbody tr th:only-of-type {\n",
       "        vertical-align: middle;\n",
       "    }\n",
       "\n",
       "    .dataframe tbody tr th {\n",
       "        vertical-align: top;\n",
       "    }\n",
       "\n",
       "    .dataframe thead th {\n",
       "        text-align: right;\n",
       "    }\n",
       "</style>\n",
       "<table border=\"1\" class=\"dataframe\">\n",
       "  <thead>\n",
       "    <tr style=\"text-align: right;\">\n",
       "      <th></th>\n",
       "      <th>D</th>\n",
       "      <th>B</th>\n",
       "      <th>C</th>\n",
       "      <th>A</th>\n",
       "      <th>E</th>\n",
       "      <th>F</th>\n",
       "    </tr>\n",
       "  </thead>\n",
       "  <tbody>\n",
       "    <tr>\n",
       "      <th>2016-07-06</th>\n",
       "      <td>1.262629</td>\n",
       "      <td>0.390815</td>\n",
       "      <td>-1.306933</td>\n",
       "      <td>-0.505383</td>\n",
       "      <td>4</td>\n",
       "      <td>alpha</td>\n",
       "    </tr>\n",
       "    <tr>\n",
       "      <th>2016-07-01</th>\n",
       "      <td>0.065413</td>\n",
       "      <td>1.635784</td>\n",
       "      <td>-0.419866</td>\n",
       "      <td>-2.416684</td>\n",
       "      <td>4</td>\n",
       "      <td>beta</td>\n",
       "    </tr>\n",
       "    <tr>\n",
       "      <th>2016-07-03</th>\n",
       "      <td>-1.148704</td>\n",
       "      <td>-1.666009</td>\n",
       "      <td>0.694237</td>\n",
       "      <td>-0.511805</td>\n",
       "      <td>2</td>\n",
       "      <td>alpha</td>\n",
       "    </tr>\n",
       "  </tbody>\n",
       "</table>\n",
       "</div>"
      ],
      "text/plain": [
       "                   D         B         C         A  E      F\n",
       "2016-07-06  1.262629  0.390815 -1.306933 -0.505383  4  alpha\n",
       "2016-07-01  0.065413  1.635784 -0.419866 -2.416684  4   beta\n",
       "2016-07-03 -1.148704 -1.666009  0.694237 -0.511805  2  alpha"
      ]
     },
     "execution_count": 34,
     "metadata": {},
     "output_type": "execute_result"
    }
   ],
   "source": [
    "# F열의 값이 'alpha'나 'beta'인 모든 행 구하기\n",
    "\n",
    "df2.loc[df2['F'].isin(['alpha','beta']), :]\n",
    "# loc: 값에 접근"
   ]
  },
  {
   "cell_type": "markdown",
   "id": "904b67d8",
   "metadata": {},
   "source": [
    "사용자가 직접 만든 함수 적용하기"
   ]
  },
  {
   "cell_type": "code",
   "execution_count": 35,
   "id": "c7c0c73f",
   "metadata": {},
   "outputs": [
    {
     "data": {
      "text/html": [
       "<div>\n",
       "<style scoped>\n",
       "    .dataframe tbody tr th:only-of-type {\n",
       "        vertical-align: middle;\n",
       "    }\n",
       "\n",
       "    .dataframe tbody tr th {\n",
       "        vertical-align: top;\n",
       "    }\n",
       "\n",
       "    .dataframe thead th {\n",
       "        text-align: right;\n",
       "    }\n",
       "</style>\n",
       "<table border=\"1\" class=\"dataframe\">\n",
       "  <thead>\n",
       "    <tr style=\"text-align: right;\">\n",
       "      <th></th>\n",
       "      <th>b</th>\n",
       "      <th>d</th>\n",
       "      <th>e</th>\n",
       "    </tr>\n",
       "  </thead>\n",
       "  <tbody>\n",
       "    <tr>\n",
       "      <th>Seoul</th>\n",
       "      <td>-0.631004</td>\n",
       "      <td>-0.415708</td>\n",
       "      <td>1.088427</td>\n",
       "    </tr>\n",
       "    <tr>\n",
       "      <th>Incheon</th>\n",
       "      <td>1.399068</td>\n",
       "      <td>-1.130040</td>\n",
       "      <td>-0.116730</td>\n",
       "    </tr>\n",
       "    <tr>\n",
       "      <th>Busan</th>\n",
       "      <td>1.172673</td>\n",
       "      <td>0.238272</td>\n",
       "      <td>-2.754068</td>\n",
       "    </tr>\n",
       "    <tr>\n",
       "      <th>Ulsan</th>\n",
       "      <td>0.401386</td>\n",
       "      <td>-0.813904</td>\n",
       "      <td>-0.460921</td>\n",
       "    </tr>\n",
       "  </tbody>\n",
       "</table>\n",
       "</div>"
      ],
      "text/plain": [
       "                b         d         e\n",
       "Seoul   -0.631004 -0.415708  1.088427\n",
       "Incheon  1.399068 -1.130040 -0.116730\n",
       "Busan    1.172673  0.238272 -2.754068\n",
       "Ulsan    0.401386 -0.813904 -0.460921"
      ]
     },
     "execution_count": 35,
     "metadata": {},
     "output_type": "execute_result"
    }
   ],
   "source": [
    "df3 = pd.DataFrame(np.random.randn(4,3), columns=['b','d','e'],\n",
    "                  index=['Seoul','Incheon','Busan','Ulsan'])\n",
    "df3"
   ]
  },
  {
   "cell_type": "code",
   "execution_count": 36,
   "id": "d2d73953",
   "metadata": {},
   "outputs": [],
   "source": [
    "func = lambda x: x.max() - x.min()"
   ]
  },
  {
   "cell_type": "code",
   "execution_count": 38,
   "id": "fb56412e",
   "metadata": {},
   "outputs": [
    {
     "data": {
      "text/plain": [
       "b    2.030072\n",
       "d    1.368312\n",
       "e    3.842495\n",
       "dtype: float64"
      ]
     },
     "execution_count": 38,
     "metadata": {},
     "output_type": "execute_result"
    }
   ],
   "source": [
    "df3.apply(func, axis=0)"
   ]
  },
  {
   "cell_type": "code",
   "execution_count": null,
   "id": "c7b94509",
   "metadata": {},
   "outputs": [],
   "source": []
  }
 ],
 "metadata": {
  "kernelspec": {
   "display_name": "Python 3",
   "language": "python",
   "name": "python3"
  },
  "language_info": {
   "codemirror_mode": {
    "name": "ipython",
    "version": 3
   },
   "file_extension": ".py",
   "mimetype": "text/x-python",
   "name": "python",
   "nbconvert_exporter": "python",
   "pygments_lexer": "ipython3",
   "version": "3.8.8"
  }
 },
 "nbformat": 4,
 "nbformat_minor": 5
}
